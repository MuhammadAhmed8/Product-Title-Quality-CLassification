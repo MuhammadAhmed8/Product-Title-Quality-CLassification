{
 "cells": [
  {
   "cell_type": "code",
   "execution_count": 7,
   "metadata": {},
   "outputs": [
    {
     "data": {
      "application/javascript": [
       "IPython.OutputArea.prototype._should_scroll = function(lines) {\n",
       "    return false;\n",
       "}"
      ],
      "text/plain": [
       "<IPython.core.display.Javascript object>"
      ]
     },
     "metadata": {},
     "output_type": "display_data"
    }
   ],
   "source": [
    "%%javascript\n",
    "IPython.OutputArea.prototype._should_scroll = function(lines) {\n",
    "    return false;\n",
    "}"
   ]
  },
  {
   "cell_type": "code",
   "execution_count": 47,
   "metadata": {
    "scrolled": true
   },
   "outputs": [
    {
     "ename": "ModuleNotFoundError",
     "evalue": "No module named 'joblib'",
     "output_type": "error",
     "traceback": [
      "\u001b[1;31m---------------------------------------------------------------------------\u001b[0m",
      "\u001b[1;31mModuleNotFoundError\u001b[0m                       Traceback (most recent call last)",
      "\u001b[1;32m<ipython-input-47-a0e430eb9c8a>\u001b[0m in \u001b[0;36m<module>\u001b[1;34m()\u001b[0m\n\u001b[0;32m     23\u001b[0m \u001b[1;32mfrom\u001b[0m \u001b[0msklearn\u001b[0m\u001b[1;33m.\u001b[0m\u001b[0mpipeline\u001b[0m \u001b[1;32mimport\u001b[0m \u001b[0mmake_pipeline\u001b[0m\u001b[1;33m\u001b[0m\u001b[0m\n\u001b[0;32m     24\u001b[0m \u001b[1;32mfrom\u001b[0m \u001b[0msklearn\u001b[0m\u001b[1;33m.\u001b[0m\u001b[0mpipeline\u001b[0m \u001b[1;32mimport\u001b[0m \u001b[0mPipeline\u001b[0m\u001b[1;33m\u001b[0m\u001b[0m\n\u001b[1;32m---> 25\u001b[1;33m \u001b[1;32mimport\u001b[0m \u001b[0mjoblib\u001b[0m\u001b[1;33m\u001b[0m\u001b[0m\n\u001b[0m\u001b[0;32m     26\u001b[0m \u001b[0mnltk\u001b[0m\u001b[1;33m.\u001b[0m\u001b[0mdownload\u001b[0m\u001b[1;33m(\u001b[0m\u001b[1;34m'words'\u001b[0m\u001b[1;33m)\u001b[0m\u001b[1;33m\u001b[0m\u001b[0m\n\u001b[0;32m     27\u001b[0m \u001b[0mnltk\u001b[0m\u001b[1;33m.\u001b[0m\u001b[0mdownload\u001b[0m\u001b[1;33m(\u001b[0m\u001b[1;34m'stopwords'\u001b[0m\u001b[1;33m)\u001b[0m\u001b[1;33m\u001b[0m\u001b[0m\n",
      "\u001b[1;31mModuleNotFoundError\u001b[0m: No module named 'joblib'"
     ]
    }
   ],
   "source": [
    "import pandas as pd\n",
    "import re\n",
    "import math\n",
    "from sklearn.feature_extraction.text import TfidfVectorizer,CountVectorizer\n",
    "from sklearn import preprocessing\n",
    "import numpy as np\n",
    "import pandas as pd\n",
    "import re as re\n",
    "import lxml.html\n",
    "import lxml.html.clean\n",
    "from nltk.tokenize import RegexpTokenizer\n",
    "from string import digits\n",
    "import nltk\n",
    "from nltk.corpus import stopwords\n",
    "import pickle\n",
    "from sklearn.naive_bayes import GaussianNB, MultinomialNB\n",
    "import lightgbm as lgb\n",
    "from sklearn.model_selection import train_test_split\n",
    "from sklearn.model_selection import KFold,StratifiedKFold\n",
    "import scipy\n",
    "from scipy.sparse import hstack\n",
    "from sklearn.preprocessing import OneHotEncoder\n",
    "from sklearn.pipeline import make_pipeline\n",
    "from sklearn.pipeline import Pipeline\n",
    "from sklearn.metrics import accuracy_score\n",
    "\n",
    "nltk.download('words')\n",
    "nltk.download('stopwords')\n",
    "from sklearn.metrics import mean_squared_error\n",
    "# from google.colab import drive\n",
    "# drive.mount('/content/drive')\n",
    "\n",
    "token = RegexpTokenizer(\"[\\w']+\")\n",
    "sw = stopwords.words('english')\n",
    "tokenizer = (nltk.corpus.words.words())"
   ]
  },
  {
   "cell_type": "code",
   "execution_count": 3,
   "metadata": {
    "collapsed": true,
    "scrolled": true
   },
   "outputs": [],
   "source": [
    "train_data = pd.read_csv(\"dataset/training/data_train.csv\", names=['country', 'sku_id', 'title', 'category_lvl_1', 'category_lvl_2', 'category_lvl_3', 'short_description', 'price', 'product_type'])\n",
    "train_clarity_labels = pd.read_csv(\"dataset/training/clarity_train.csv\", names=['clarity'])\n",
    "train_conciseness_labels = pd.read_csv(\"dataset/training/conciseness_train.csv\", names=['conciseness'])\n",
    "\n",
    "\n",
    "validation_data = pd.read_csv(\"dataset/validation/data_valid.csv\", names=['country', 'sku_id', 'title', 'category_lvl_1', 'category_lvl_2', 'category_lvl_3', 'short_description', 'price', 'product_type'])\n",
    "validation_clarity_labels = pd.read_csv(\"dataset/validation/clarity_valid.csv\", names=['clarity'])\n",
    "validation_conciseness_labels = pd.read_csv(\"dataset/validation/conciseness_valid.csv\", names=['conciseness'])\n"
   ]
  },
  {
   "cell_type": "code",
   "execution_count": 4,
   "metadata": {
    "scrolled": true
   },
   "outputs": [],
   "source": [
    "train_data['conciseness'] = np.loadtxt(\"dataset/training/conciseness_train.labels\", dtype=int)\n",
    "train_data['clarity'] = np.loadtxt(\"dataset/training/clarity_train.labels\", dtype=int)"
   ]
  },
  {
   "cell_type": "code",
   "execution_count": 147,
   "metadata": {
    "scrolled": false
   },
   "outputs": [
    {
     "data": {
      "text/plain": [
       "(2055, 11)"
      ]
     },
     "execution_count": 147,
     "metadata": {},
     "output_type": "execute_result"
    }
   ],
   "source": []
  },
  {
   "cell_type": "code",
   "execution_count": 4,
   "metadata": {
    "collapsed": true,
    "scrolled": true
   },
   "outputs": [],
   "source": [
    "#train_clarity_labels\n"
   ]
  },
  {
   "cell_type": "code",
   "execution_count": 8,
   "metadata": {
    "scrolled": true
   },
   "outputs": [
    {
     "data": {
      "text/plain": [
       "(36283, 11)"
      ]
     },
     "execution_count": 8,
     "metadata": {},
     "output_type": "execute_result"
    }
   ],
   "source": [
    "# train_conciseness_labels\n",
    "train_data.shape"
   ]
  },
  {
   "cell_type": "code",
   "execution_count": 9,
   "metadata": {
    "scrolled": false
   },
   "outputs": [
    {
     "data": {
      "text/html": [
       "<div>\n",
       "<style>\n",
       "    .dataframe thead tr:only-child th {\n",
       "        text-align: right;\n",
       "    }\n",
       "\n",
       "    .dataframe thead th {\n",
       "        text-align: left;\n",
       "    }\n",
       "\n",
       "    .dataframe tbody tr th {\n",
       "        vertical-align: top;\n",
       "    }\n",
       "</style>\n",
       "<table border=\"1\" class=\"dataframe\">\n",
       "  <thead>\n",
       "    <tr style=\"text-align: right;\">\n",
       "      <th></th>\n",
       "      <th>country</th>\n",
       "      <th>sku_id</th>\n",
       "      <th>title</th>\n",
       "      <th>category_lvl_1</th>\n",
       "      <th>category_lvl_2</th>\n",
       "      <th>category_lvl_3</th>\n",
       "      <th>short_description</th>\n",
       "      <th>price</th>\n",
       "      <th>product_type</th>\n",
       "      <th>conciseness</th>\n",
       "      <th>clarity</th>\n",
       "    </tr>\n",
       "  </thead>\n",
       "  <tbody>\n",
       "    <tr>\n",
       "      <th>2</th>\n",
       "      <td>my</td>\n",
       "      <td>AN680ELAA9VN57ANMY</td>\n",
       "      <td>Andoer 150cm Cellphone Smartphone Mini Dual-He...</td>\n",
       "      <td>TV, Audio / Video, Gaming &amp; Wearables</td>\n",
       "      <td>Audio</td>\n",
       "      <td>Live Sound &amp; Stage</td>\n",
       "      <td>150cm mini microphone compatible for iPhone, ...</td>\n",
       "      <td>25.07</td>\n",
       "      <td>international</td>\n",
       "      <td>0</td>\n",
       "      <td>1</td>\n",
       "    </tr>\n",
       "    <tr>\n",
       "      <th>3</th>\n",
       "      <td>my</td>\n",
       "      <td>AN957HBAAAHDF4ANMY</td>\n",
       "      <td>ANMYNA Complaint Silky Set 柔顺洗发配套 (Shampoo 520...</td>\n",
       "      <td>Health &amp; Beauty</td>\n",
       "      <td>Hair Care</td>\n",
       "      <td>Shampoos &amp; Conditioners</td>\n",
       "      <td>ANMYNA Complaint Silky Set (Shampoo 520ml + C...</td>\n",
       "      <td>118.00</td>\n",
       "      <td>local</td>\n",
       "      <td>1</td>\n",
       "      <td>1</td>\n",
       "    </tr>\n",
       "    <tr>\n",
       "      <th>4</th>\n",
       "      <td>my</td>\n",
       "      <td>AR511HBAXNWAANMY</td>\n",
       "      <td>Argital Argiltubo Green Clay For Face and Body...</td>\n",
       "      <td>Health &amp; Beauty</td>\n",
       "      <td>Men's Care</td>\n",
       "      <td>Body and Skin Care</td>\n",
       "      <td>100% Authentic Rrefresh and brighten skin Ant...</td>\n",
       "      <td>114.80</td>\n",
       "      <td>international</td>\n",
       "      <td>1</td>\n",
       "      <td>1</td>\n",
       "    </tr>\n",
       "    <tr>\n",
       "      <th>5</th>\n",
       "      <td>my</td>\n",
       "      <td>AS575ELCMZ4WANMY</td>\n",
       "      <td>Asus TP300LJ-DW004H Transformer Book Flip 4GB ...</td>\n",
       "      <td>Computers &amp; Laptops</td>\n",
       "      <td>Laptops</td>\n",
       "      <td>Traditional Laptops</td>\n",
       "      <td>Genuine Windows® 8.1 13.3in 169 HD TOUCH In...</td>\n",
       "      <td>2599.00</td>\n",
       "      <td>local</td>\n",
       "      <td>1</td>\n",
       "      <td>1</td>\n",
       "    </tr>\n",
       "  </tbody>\n",
       "</table>\n",
       "</div>"
      ],
      "text/plain": [
       "  country              sku_id  \\\n",
       "2      my  AN680ELAA9VN57ANMY   \n",
       "3      my  AN957HBAAAHDF4ANMY   \n",
       "4      my    AR511HBAXNWAANMY   \n",
       "5      my    AS575ELCMZ4WANMY   \n",
       "\n",
       "                                               title  \\\n",
       "2  Andoer 150cm Cellphone Smartphone Mini Dual-He...   \n",
       "3  ANMYNA Complaint Silky Set 柔顺洗发配套 (Shampoo 520...   \n",
       "4  Argital Argiltubo Green Clay For Face and Body...   \n",
       "5  Asus TP300LJ-DW004H Transformer Book Flip 4GB ...   \n",
       "\n",
       "                          category_lvl_1 category_lvl_2  \\\n",
       "2  TV, Audio / Video, Gaming & Wearables          Audio   \n",
       "3                        Health & Beauty      Hair Care   \n",
       "4                        Health & Beauty     Men's Care   \n",
       "5                    Computers & Laptops        Laptops   \n",
       "\n",
       "            category_lvl_3                                  short_description  \\\n",
       "2       Live Sound & Stage   150cm mini microphone compatible for iPhone, ...   \n",
       "3  Shampoos & Conditioners   ANMYNA Complaint Silky Set (Shampoo 520ml + C...   \n",
       "4       Body and Skin Care   100% Authentic Rrefresh and brighten skin Ant...   \n",
       "5      Traditional Laptops     Genuine Windows® 8.1 13.3in 169 HD TOUCH In...   \n",
       "\n",
       "     price   product_type  conciseness  clarity  \n",
       "2    25.07  international            0        1  \n",
       "3   118.00          local            1        1  \n",
       "4   114.80  international            1        1  \n",
       "5  2599.00          local            1        1  "
      ]
     },
     "execution_count": 9,
     "metadata": {},
     "output_type": "execute_result"
    }
   ],
   "source": [
    "\n",
    "# preprocessing --\n",
    "train_data['category_lvl_3'] = train_data['category_lvl_3'].fillna('NA')\n",
    "#null values check\n",
    "def null_value_chk(data):\n",
    "    for column in data.columns:\n",
    "        print(column, data[column].isnull().sum())\n",
    "\n",
    "\n",
    "#html tags removing from description\n",
    "def remove_tags(string):\n",
    "    \n",
    "    doc = lxml.html.fromstring(string)\n",
    "    cleaner = lxml.html.clean.Cleaner(style=True)\n",
    "    doc = cleaner.clean_html(doc)\n",
    "    text = doc.text_content()\n",
    "    return text\n",
    "\n",
    "def clear_description(data):\n",
    "    new_string = re.sub('[:!@#$]','',data )\n",
    "    return new_string\n",
    "\n",
    "#data cleaning of null vales of category\n",
    "\n",
    "def category_data(data):\n",
    "    for idx in range(0 , len(data)):\n",
    "        if(pd.isnull(data['category_lvl_3'][idx]) ):\n",
    "            data.loc[idx, 'category_lvl_3'] = data.loc[idx]['category_lvl_1'] + \" \" + data.loc[idx]['category_lvl_2']\n",
    "\n",
    "\n",
    "def clean_data(data):\n",
    "    \n",
    "    #train_data['short_description'] = train_data['short_description'].apply(lambda x: 'no description')\n",
    "    #html tags removal\n",
    "    train_data['short_description'] = train_data['short_description'].apply(lambda cw : remove_tags(str(cw)))\n",
    "    train_data['short_description'] = train_data['short_description'].apply(lambda x:clear_description(str(x)))\n",
    "\n",
    "\n",
    "#removing description for now - will see it later\n",
    "# train_data['short_description'] = train_data['short_description'].apply(lambda x: 'no description')\n",
    "\n",
    "clean_data(train_data)\n",
    "train_data.iloc[2:6]\n",
    "\n"
   ]
  },
  {
   "cell_type": "code",
   "execution_count": null,
   "metadata": {
    "collapsed": true,
    "scrolled": true
   },
   "outputs": [],
   "source": []
  },
  {
   "cell_type": "code",
   "execution_count": 11,
   "metadata": {
    "collapsed": true,
    "scrolled": true
   },
   "outputs": [],
   "source": [
    "train_data.to_csv('train_preprocessed.csv',encoding='utf-8', index=False)\n"
   ]
  },
  {
   "cell_type": "code",
   "execution_count": 12,
   "metadata": {
    "collapsed": true,
    "scrolled": true
   },
   "outputs": [],
   "source": [
    "train_data_preprocessed = pd.read_csv(\"train_preprocessed.csv\", encoding='utf-8')"
   ]
  },
  {
   "cell_type": "code",
   "execution_count": null,
   "metadata": {
    "scrolled": false
   },
   "outputs": [],
   "source": []
  },
  {
   "cell_type": "code",
   "execution_count": 87,
   "metadata": {
    "collapsed": true,
    "scrolled": true
   },
   "outputs": [],
   "source": [
    "colors_df = set()\n",
    "brands_df = set()\n",
    "\n",
    "def __load__():\n",
    "    global colors_df\n",
    "    global brands_df\n",
    "    \n",
    "    colors_df = set(line.strip().lower() for line in open('dataset\\colors.txt'))\n",
    "    brands_df = set(line.strip().lower() for line in open('dataset\\lazada_brands.txt'))\n",
    "\n",
    "__load__()\n",
    "\n",
    "def jaccard_sim(s1, s2):\n",
    "    inter = float(len(s1&s2))\n",
    "    union = float(len(s1|s2))\n",
    "    return inter / union  if union > 0 else -1.0\n",
    "\n",
    "def has_numeric_value(word):\n",
    "    return bool(re.search(r'\\d', word))\n",
    "\n",
    "def special_char_count(text):\n",
    "    special_chars = '''!\"#$%&'()*+,-./:;<=>?@[\\\\]^_`{|}~ '''\n",
    "    return sum(1 for c in text if c in special_chars)\n",
    "\n",
    "def price_country(price, country):\n",
    "    \n",
    "    price = abs(price)\n",
    "    if country == 'my':\n",
    "        price *= 0.32\n",
    "    elif country != 'sg':\n",
    "        price *= 0.074\n",
    "    \n",
    "    return price\n",
    "\n",
    "\n",
    "def generate_surface_features(df):\n",
    "    \n",
    "    feat_names = ['title_words_count', 'title_unique_words_count', 'title_duplicate_words_count', 'title_duplicate_words_ratio',\\\n",
    "            'title_avg_word_length','title_sku','title_has_numeric_value','title_desc_sim', 'title_cat1_sim',\\\n",
    "            'title_cat2_sim', 'title_cat3_sim', 'title_special_chars_count', 'price_c']\n",
    "   \n",
    "    feats_data = []\n",
    "    \n",
    "    for i, row in df.iterrows():\n",
    "        \n",
    "        #new features\n",
    "        feat = [] \n",
    "        \n",
    "        title = row['title'].lower()\n",
    "        desc = row['short_description']\n",
    "        sku_id = row['sku_id'].lower()\n",
    "        price = float(row['price'])\n",
    "        country = row['country']\n",
    "        \n",
    "        title_words = title.split(' ')\n",
    "        title_words_count = len(title_words)\n",
    "        feat.append(title_words_count)\n",
    "            \n",
    "        desc_words = desc.split(' ')\n",
    "            \n",
    "            \n",
    "        #if there are many duplicate words, the title will be not concise\n",
    "    \n",
    "        title_unique_words = [w for w in set(title_words)]\n",
    "        \n",
    "        title_unique_words_count = len(title_unique_words)\n",
    "        feat.append(title_unique_words_count)\n",
    "        \n",
    "        title_duplicate_words_count = title_words_count - title_unique_words_count\n",
    "        feat.append(title_duplicate_words_count)\n",
    "            \n",
    "        title_duplicate_words_ratio = title_duplicate_words_count / title_words_count\n",
    "        feat.append(title_duplicate_words_ratio)\n",
    "        \n",
    "        title_avg_word_length = len(title)/title_words_count\n",
    "        feat.append(title_avg_word_length)\n",
    "               \n",
    "        \n",
    "        # if first two characters matches with sku_id. first word in title usually shows brand\n",
    "        title_sku = int(title[:2] == sku_id[:2])\n",
    "        feat.append(title_sku)\n",
    "            \n",
    "        #contains some numeric value which may show product model\n",
    "        title_has_numeric_value = int(any([ has_numeric_value(w) for w in title_words ]))\n",
    "        feat.append(title_has_numeric_value)\n",
    "        \n",
    "        #jaccard similarity score between title and description\n",
    "        title_desc_sim = jaccard_sim(set(title_words),set(desc_words))\n",
    "        feat.append(title_desc_sim)\n",
    "        \n",
    "        \n",
    "        \n",
    "        cat1 = row['category_lvl_1'].lower().split()\n",
    "        cat2 = row['category_lvl_2'].lower().split()\n",
    "        cat3 = row['category_lvl_3'].lower().split()\n",
    "        \n",
    "        # similarity between title words and category words\n",
    "        feat.append(len(set(title_words)&set(cat1)))\n",
    "        feat.append(len(set(title_words)&set(cat2)))\n",
    "        feat.append(len(set(title_words)&set(cat3)))\n",
    "        \n",
    "        \n",
    "        #special character count\n",
    "        title_special_chars_count = special_char_count(title)\n",
    "        feat.append(title_special_chars_count)\n",
    "        \n",
    "        #price country\n",
    "        price_c = price_country(price,country)\n",
    "        feat.append(price_c) \n",
    "        \n",
    "        feats_data.append(feat)\n",
    "        \n",
    "    \n",
    "    return pd.DataFrame(feats_data, columns=feat_names)\n",
    "    #return scipy.sparse.csr_matrix(feats_data)\n",
    "        \n",
    "train_data_feats = generate_surface_features(train_data)\n"
   ]
  },
  {
   "cell_type": "code",
   "execution_count": null,
   "metadata": {},
   "outputs": [],
   "source": [
    "\n"
   ]
  },
  {
   "cell_type": "code",
   "execution_count": 75,
   "metadata": {
    "scrolled": true
   },
   "outputs": [],
   "source": [
    "def generate_title_text_features(train_data,validation_data,analyzer=\"char\", n_grams=(2,6), min_df = 1, max_df = 1.0):\n",
    "    #title text features ngrams\n",
    "    \n",
    "    n_tr = train_data.shape[0]\n",
    "    \n",
    "    \n",
    "    df = pd.concat((train_data,validation_data))\n",
    "    \n",
    "    countVectorizer = CountVectorizer(analyzer=analyzer, ngram_range=n_grams, min_df=min_df, max_df = max_df, lowercase=True)\n",
    "    countVectorizer.fit(df['title'])\n",
    "    X = countVectorizer.transform(df['title'].values)\n",
    "    \n",
    "    X_tr = X[:n_tr,:]\n",
    "    X_val = X[n_tr:,:]\n",
    "    \n",
    "    #print(countVectorizer.get_feature_names())\n",
    "    with open(\"features/title_ng_tr.pickle\",\"wb\") as f:\n",
    "        pickle.dump(X_tr, f)\n",
    "    \n",
    "    with open(\"features/title_ng_val.pickle\",\"wb\") as f:\n",
    "        pickle.dump(X_val, f)\n",
    "        \n",
    "    return X_tr,X_val\n",
    "  \n",
    "X_title_count_tr,X_title_count_val = generate_title_text_features(train_data,validation_data, min_df = 0.005)\n",
    "# train_data_feats['title_text_count_feat'] = generate_title_text_features(train_data)\n",
    "X_title_count_tr.shape"
   ]
  },
  {
   "cell_type": "code",
   "execution_count": 86,
   "metadata": {
    "scrolled": true
   },
   "outputs": [],
   "source": [
    "def extract_brand_features(train_data, validation_data, analyzer='word', ngram_range=(1, 1), lowercase=True):\n",
    "    \n",
    "    n_trains = train_data.shape[0]\n",
    "    \n",
    "    df = pd.concat((train_data,validation_data))\n",
    "    \n",
    "    brands = [x.strip() for x in open(\"dataset/lazada_brands.txt\").readlines()]\n",
    "    vect = TfidfVectorizer(analyzer=analyzer, ngram_range=ngram_range, decode_error='replace')\n",
    "    vect.fit(brands)\n",
    "    X = vect.transform(df[\"title\"].map(lambda x: x.replace('(', ' (').replace(')', ' )').lower()).values)\n",
    "    X_tr = X[:n_trains,:]\n",
    "    X_val = X[n_trains:,:]\n",
    "    feat_train_file = \"title_brands.trn\"\n",
    "    feat_test_file = \"title_brands.tst\"\n",
    "\n",
    "    with open(\"features/brands_feats_tr.pickle\",\"wb\") as f:\n",
    "        pickle.dump(X_tr, f)\n",
    "    \n",
    "    with open(\"features/brands_feats_val.pickle\",\"wb\") as f:\n",
    "        pickle.dump(X_val, f)\n",
    "\n",
    "extract_brand_features(train_data,validation_data)  "
   ]
  },
  {
   "cell_type": "code",
   "execution_count": 72,
   "metadata": {},
   "outputs": [],
   "source": [
    "def extract_color_features(train_data, validation_data, analyzer='word', ngram_range=(1, 1), lowercase=True):\n",
    "    \n",
    "    n_trains = train_data.shape[0]\n",
    "    \n",
    "    df = pd.concat((train_data,validation_data))\n",
    "    \n",
    "    colors = [x.strip() for x in open(\"dataset\\colors.txt\").readlines()]\n",
    "    \n",
    "    vect = TfidfVectorizer(analyzer=analyzer, ngram_range=ngram_range, decode_error='replace')\n",
    "    vect.fit(colors)\n",
    "    \n",
    "    X = vect.transform(df[\"title\"].map(lambda x: x.replace('(', ' (').replace(')', ' )').lower()).values)\n",
    "    X_tr = X[:n_trains,:]\n",
    "    X_val = X[n_trains:,:]\n",
    "    feat_train_file = \"title_color.trn\"\n",
    "    feat_test_file = \"title_color.tst\"\n",
    "\n",
    "    with open(\"features/color_feats_tr.pickle\",\"wb\") as f:\n",
    "        pickle.dump(X_tr, f)\n",
    "    \n",
    "    with open(\"features/color_feats_val.pickle\",\"wb\") as f:\n",
    "        pickle.dump(X_val, f)\n",
    "\n",
    "extract_color_features(train_data,validation_data)  "
   ]
  },
  {
   "cell_type": "code",
   "execution_count": 90,
   "metadata": {},
   "outputs": [],
   "source": [
    "with open(\"features/title_ng_tr.pickle\",\"rb\") as f:\n",
    "    X_title_count_tr = pickle.load(f)\n",
    "    \n",
    "with open(\"features/title_ng_val.pickle\",\"rb\") as f:\n",
    "    X_title_count_val = pickle.load(f)\n",
    "    \n",
    "with open(\"features/color_feats_tr.pickle\",\"rb\") as f:\n",
    "    X_title_color_tr = pickle.load(f)\n",
    "    \n",
    "with open(\"features/color_feats_val.pickle\",\"rb\") as f:\n",
    "    X_title_color_val = pickle.load(f)\n",
    "\n",
    "with open(\"features/brands_feats_tr.pickle\",\"rb\") as f:\n",
    "    X_title_brands_tr = pickle.load(f)\n",
    "    \n",
    "with open(\"features/brands_feats_val.pickle\",\"rb\") as f:\n",
    "    X_title_brands_val = pickle.load(f)"
   ]
  },
  {
   "cell_type": "code",
   "execution_count": 91,
   "metadata": {
    "collapsed": true,
    "scrolled": true
   },
   "outputs": [],
   "source": [
    "X_surf_feats_tr = scipy.sparse.csr_matrix(train_data_feats.to_sparse())"
   ]
  },
  {
   "cell_type": "code",
   "execution_count": 92,
   "metadata": {
    "collapsed": true,
    "scrolled": true
   },
   "outputs": [],
   "source": [
    "X_feats_tr = hstack((X_title_count_tr,X_title_color_tr,X_title_brands_tr, X_surf_feats_tr))"
   ]
  },
  {
   "cell_type": "code",
   "execution_count": 99,
   "metadata": {
    "scrolled": true
   },
   "outputs": [],
   "source": [
    "X_feats_tr = X_feats_tr.tocsr()"
   ]
  },
  {
   "cell_type": "code",
   "execution_count": 100,
   "metadata": {
    "scrolled": true
   },
   "outputs": [
    {
     "data": {
      "text/plain": [
       "<36283x28729 sparse matrix of type '<class 'numpy.float64'>'\n",
       "\twith 7858668 stored elements in Compressed Sparse Row format>"
      ]
     },
     "execution_count": 100,
     "metadata": {},
     "output_type": "execute_result"
    }
   ],
   "source": [
    "X_feats_tr"
   ]
  },
  {
   "cell_type": "code",
   "execution_count": 24,
   "metadata": {
    "scrolled": true
   },
   "outputs": [
    {
     "data": {
      "text/plain": [
       "array([0.34139, 0.22758, 0.36162, ..., 0.39207, 0.48232, 0.27523])"
      ]
     },
     "execution_count": 24,
     "metadata": {},
     "output_type": "execute_result"
    }
   ],
   "source": [
    "np.array(validation_clarity_labels['clarity'])\n"
   ]
  },
  {
   "cell_type": "code",
   "execution_count": 25,
   "metadata": {
    "scrolled": true
   },
   "outputs": [],
   "source": [
    "X_title_count_tr = X_title_count_tr.astype('float32')\n"
   ]
  },
  {
   "cell_type": "code",
   "execution_count": 110,
   "metadata": {},
   "outputs": [
    {
     "data": {
      "text/plain": [
       "<36283x8768 sparse matrix of type '<class 'numpy.int64'>'\n",
       "\twith 7261026 stored elements in Compressed Sparse Row format>"
      ]
     },
     "execution_count": 110,
     "metadata": {},
     "output_type": "execute_result"
    }
   ],
   "source": [
    "X_title_count_tr"
   ]
  },
  {
   "cell_type": "code",
   "execution_count": 109,
   "metadata": {
    "scrolled": true
   },
   "outputs": [
    {
     "name": "stderr",
     "output_type": "stream",
     "text": [
      "C:\\Users\\USER\\Anaconda3\\lib\\site-packages\\sklearn\\preprocessing\\label.py:151: DeprecationWarning: The truth value of an empty array is ambiguous. Returning False, but in future this will result in an error. Use `array.size > 0` to check that an array is not empty.\n",
      "  if diff:\n"
     ]
    },
    {
     "name": "stdout",
     "output_type": "stream",
     "text": [
      "LGB model accuracy score for K fold 1 = 0.8495453292918159\n",
      "LGB model rmse score for K fold 1 = 0.3878848678515109\n"
     ]
    },
    {
     "name": "stderr",
     "output_type": "stream",
     "text": [
      "C:\\Users\\USER\\Anaconda3\\lib\\site-packages\\sklearn\\preprocessing\\label.py:151: DeprecationWarning: The truth value of an empty array is ambiguous. Returning False, but in future this will result in an error. Use `array.size > 0` to check that an array is not empty.\n",
      "  if diff:\n"
     ]
    },
    {
     "name": "stdout",
     "output_type": "stream",
     "text": [
      "LGB model accuracy score for K fold 2 = 0.8525764673463764\n",
      "LGB model rmse score for K fold 2 = 0.38395772248207694\n"
     ]
    },
    {
     "name": "stderr",
     "output_type": "stream",
     "text": [
      "C:\\Users\\USER\\Anaconda3\\lib\\site-packages\\sklearn\\preprocessing\\label.py:151: DeprecationWarning: The truth value of an empty array is ambiguous. Returning False, but in future this will result in an error. Use `array.size > 0` to check that an array is not empty.\n",
      "  if diff:\n"
     ]
    },
    {
     "name": "stdout",
     "output_type": "stream",
     "text": [
      "LGB model accuracy score for K fold 3 = 0.8492697712868559\n",
      "LGB model rmse score for K fold 3 = 0.3882399112831448\n"
     ]
    },
    {
     "name": "stderr",
     "output_type": "stream",
     "text": [
      "C:\\Users\\USER\\Anaconda3\\lib\\site-packages\\sklearn\\preprocessing\\label.py:151: DeprecationWarning: The truth value of an empty array is ambiguous. Returning False, but in future this will result in an error. Use `array.size > 0` to check that an array is not empty.\n",
      "  if diff:\n"
     ]
    },
    {
     "name": "stdout",
     "output_type": "stream",
     "text": [
      "LGB model accuracy score for K fold 4 = 0.8423808211628547\n",
      "LGB model rmse score for K fold 4 = 0.39701281948716116\n"
     ]
    },
    {
     "name": "stderr",
     "output_type": "stream",
     "text": [
      "C:\\Users\\USER\\Anaconda3\\lib\\site-packages\\sklearn\\preprocessing\\label.py:151: DeprecationWarning: The truth value of an empty array is ambiguous. Returning False, but in future this will result in an error. Use `array.size > 0` to check that an array is not empty.\n",
      "  if diff:\n"
     ]
    },
    {
     "name": "stdout",
     "output_type": "stream",
     "text": [
      "LGB model accuracy score for K fold 5 = 0.8489942132818958\n",
      "LGB model rmse score for K fold 5 = 0.38859463032587593\n"
     ]
    },
    {
     "name": "stderr",
     "output_type": "stream",
     "text": [
      "C:\\Users\\USER\\Anaconda3\\lib\\site-packages\\sklearn\\preprocessing\\label.py:151: DeprecationWarning: The truth value of an empty array is ambiguous. Returning False, but in future this will result in an error. Use `array.size > 0` to check that an array is not empty.\n",
      "  if diff:\n"
     ]
    },
    {
     "name": "stdout",
     "output_type": "stream",
     "text": [
      "LGB model accuracy score for K fold 6 = 0.8484430972719758\n",
      "LGB model rmse score for K fold 6 = 0.3893030987906778\n"
     ]
    },
    {
     "name": "stderr",
     "output_type": "stream",
     "text": [
      "C:\\Users\\USER\\Anaconda3\\lib\\site-packages\\sklearn\\preprocessing\\label.py:151: DeprecationWarning: The truth value of an empty array is ambiguous. Returning False, but in future this will result in an error. Use `array.size > 0` to check that an array is not empty.\n",
      "  if diff:\n"
     ]
    },
    {
     "name": "stdout",
     "output_type": "stream",
     "text": [
      "LGB model accuracy score for K fold 7 = 0.850606394707828\n",
      "LGB model rmse score for K fold 7 = 0.3865146896201644\n"
     ]
    },
    {
     "name": "stderr",
     "output_type": "stream",
     "text": [
      "C:\\Users\\USER\\Anaconda3\\lib\\site-packages\\sklearn\\preprocessing\\label.py:151: DeprecationWarning: The truth value of an empty array is ambiguous. Returning False, but in future this will result in an error. Use `array.size > 0` to check that an array is not empty.\n",
      "  if diff:\n"
     ]
    },
    {
     "name": "stdout",
     "output_type": "stream",
     "text": [
      "LGB model accuracy score for K fold 8 = 0.8524951750758203\n",
      "LGB model rmse score for K fold 8 = 0.38406356885830734\n"
     ]
    },
    {
     "name": "stderr",
     "output_type": "stream",
     "text": [
      "C:\\Users\\USER\\Anaconda3\\lib\\site-packages\\sklearn\\preprocessing\\label.py:151: DeprecationWarning: The truth value of an empty array is ambiguous. Returning False, but in future this will result in an error. Use `array.size > 0` to check that an array is not empty.\n",
      "  if diff:\n"
     ]
    },
    {
     "name": "stdout",
     "output_type": "stream",
     "text": [
      "LGB model accuracy score for K fold 9 = 0.8417424869037772\n",
      "LGB model rmse score for K fold 9 = 0.3978159286607598\n",
      "LGB model accuracy score for K fold 10 = 0.8475323959194927\n",
      "LGB model rmse score for K fold 10 = 0.3904710028676999\n",
      "AVG RMSE:  0.38941158787988156\n"
     ]
    },
    {
     "name": "stderr",
     "output_type": "stream",
     "text": [
      "C:\\Users\\USER\\Anaconda3\\lib\\site-packages\\sklearn\\preprocessing\\label.py:151: DeprecationWarning: The truth value of an empty array is ambiguous. Returning False, but in future this will result in an error. Use `array.size > 0` to check that an array is not empty.\n",
      "  if diff:\n"
     ]
    }
   ],
   "source": [
    "k = 10\n",
    "kf = StratifiedKFold(n_splits=k, shuffle=True)\n",
    "lgb_model = lgb.LGBMClassifier()\n",
    "YStrat = train_data['conciseness'].values\n",
    "step = 1\n",
    "X = X_feats_tr\n",
    "avg_rmse = 0\n",
    "for train_index, test_index in kf.split(X,YStrat): \n",
    "    train_X = X[train_index]\n",
    "    train_Y = train_data['conciseness'][train_index]\n",
    "    test_X = X[test_index]\n",
    "    test_Y = train_data['conciseness'][test_index]\n",
    "    lgb_model.fit(train_X, train_Y)\n",
    "    predictions = lgb_model.predict(test_X)\n",
    "    accuracy = accuracy_score(test_Y, predictions)\n",
    "    mse = mean_squared_error(test_Y, predictions)\n",
    "    rmse = math.sqrt(mse)\n",
    "    avg_rmse += mse\n",
    "    print(\"LGB model accuracy score for K fold {} = {}\".format(step, accuracy) )\n",
    "    print(\"LGB model rmse score for K fold {} = {}\".format(step, rmse) )\n",
    "    step += 1\n",
    "\n",
    "avg_rmse = math.sqrt(avg_rmse/k)\n",
    "print(\"AVG RMSE: \", avg_rmse)"
   ]
  },
  {
   "cell_type": "code",
   "execution_count": 98,
   "metadata": {
    "scrolled": true
   },
   "outputs": [
    {
     "data": {
      "text/plain": [
       "<36283x28729 sparse matrix of type '<class 'numpy.float64'>'\n",
       "\twith 7858668 stored elements in COOrdinate format>"
      ]
     },
     "execution_count": 98,
     "metadata": {},
     "output_type": "execute_result"
    }
   ],
   "source": [
    "X_feats_tr\n"
   ]
  },
  {
   "cell_type": "code",
   "execution_count": 101,
   "metadata": {
    "scrolled": false
   },
   "outputs": [
    {
     "name": "stderr",
     "output_type": "stream",
     "text": [
      "C:\\Users\\USER\\Anaconda3\\lib\\site-packages\\sklearn\\preprocessing\\label.py:151: DeprecationWarning: The truth value of an empty array is ambiguous. Returning False, but in future this will result in an error. Use `array.size > 0` to check that an array is not empty.\n",
      "  if diff:\n"
     ]
    },
    {
     "name": "stdout",
     "output_type": "stream",
     "text": [
      "LGB model accuracy score for K fold 1 = 0.9421328189583907\n",
      "LGB model rmse score for K fold 1 = 0.24055598317566176\n"
     ]
    },
    {
     "name": "stderr",
     "output_type": "stream",
     "text": [
      "C:\\Users\\USER\\Anaconda3\\lib\\site-packages\\sklearn\\preprocessing\\label.py:151: DeprecationWarning: The truth value of an empty array is ambiguous. Returning False, but in future this will result in an error. Use `array.size > 0` to check that an array is not empty.\n",
      "  if diff:\n"
     ]
    },
    {
     "name": "stdout",
     "output_type": "stream",
     "text": [
      "LGB model accuracy score for K fold 2 = 0.9382750068889502\n",
      "LGB model rmse score for K fold 2 = 0.24844515111197055\n"
     ]
    },
    {
     "name": "stderr",
     "output_type": "stream",
     "text": [
      "C:\\Users\\USER\\Anaconda3\\lib\\site-packages\\sklearn\\preprocessing\\label.py:151: DeprecationWarning: The truth value of an empty array is ambiguous. Returning False, but in future this will result in an error. Use `array.size > 0` to check that an array is not empty.\n",
      "  if diff:\n"
     ]
    },
    {
     "name": "stdout",
     "output_type": "stream",
     "text": [
      "LGB model accuracy score for K fold 3 = 0.9413061449435106\n",
      "LGB model rmse score for K fold 3 = 0.24226814701171384\n"
     ]
    },
    {
     "name": "stderr",
     "output_type": "stream",
     "text": [
      "C:\\Users\\USER\\Anaconda3\\lib\\site-packages\\sklearn\\preprocessing\\label.py:151: DeprecationWarning: The truth value of an empty array is ambiguous. Returning False, but in future this will result in an error. Use `array.size > 0` to check that an array is not empty.\n",
      "  if diff:\n"
     ]
    },
    {
     "name": "stdout",
     "output_type": "stream",
     "text": [
      "LGB model accuracy score for K fold 4 = 0.9443372829980711\n",
      "LGB model rmse score for K fold 4 = 0.23592947463580913\n"
     ]
    },
    {
     "name": "stderr",
     "output_type": "stream",
     "text": [
      "C:\\Users\\USER\\Anaconda3\\lib\\site-packages\\sklearn\\preprocessing\\label.py:151: DeprecationWarning: The truth value of an empty array is ambiguous. Returning False, but in future this will result in an error. Use `array.size > 0` to check that an array is not empty.\n",
      "  if diff:\n"
     ]
    },
    {
     "name": "stdout",
     "output_type": "stream",
     "text": [
      "LGB model accuracy score for K fold 5 = 0.9432350509782309\n",
      "LGB model rmse score for K fold 5 = 0.23825395908939076\n"
     ]
    },
    {
     "name": "stderr",
     "output_type": "stream",
     "text": [
      "C:\\Users\\USER\\Anaconda3\\lib\\site-packages\\sklearn\\preprocessing\\label.py:151: DeprecationWarning: The truth value of an empty array is ambiguous. Returning False, but in future this will result in an error. Use `array.size > 0` to check that an array is not empty.\n",
      "  if diff:\n"
     ]
    },
    {
     "name": "stdout",
     "output_type": "stream",
     "text": [
      "LGB model accuracy score for K fold 6 = 0.9407386990077178\n",
      "LGB model rmse score for K fold 6 = 0.24343644138107642\n"
     ]
    },
    {
     "name": "stderr",
     "output_type": "stream",
     "text": [
      "C:\\Users\\USER\\Anaconda3\\lib\\site-packages\\sklearn\\preprocessing\\label.py:151: DeprecationWarning: The truth value of an empty array is ambiguous. Returning False, but in future this will result in an error. Use `array.size > 0` to check that an array is not empty.\n",
      "  if diff:\n"
     ]
    },
    {
     "name": "stdout",
     "output_type": "stream",
     "text": [
      "LGB model accuracy score for K fold 7 = 0.9407386990077178\n",
      "LGB model rmse score for K fold 7 = 0.24343644138107642\n"
     ]
    },
    {
     "name": "stderr",
     "output_type": "stream",
     "text": [
      "C:\\Users\\USER\\Anaconda3\\lib\\site-packages\\sklearn\\preprocessing\\label.py:151: DeprecationWarning: The truth value of an empty array is ambiguous. Returning False, but in future this will result in an error. Use `array.size > 0` to check that an array is not empty.\n",
      "  if diff:\n"
     ]
    },
    {
     "name": "stdout",
     "output_type": "stream",
     "text": [
      "LGB model accuracy score for K fold 8 = 0.9445975744211687\n",
      "LGB model rmse score for K fold 8 = 0.23537719851088235\n"
     ]
    },
    {
     "name": "stderr",
     "output_type": "stream",
     "text": [
      "C:\\Users\\USER\\Anaconda3\\lib\\site-packages\\sklearn\\preprocessing\\label.py:151: DeprecationWarning: The truth value of an empty array is ambiguous. Returning False, but in future this will result in an error. Use `array.size > 0` to check that an array is not empty.\n",
      "  if diff:\n"
     ]
    },
    {
     "name": "stdout",
     "output_type": "stream",
     "text": [
      "LGB model accuracy score for K fold 9 = 0.941825199889716\n",
      "LGB model rmse score for K fold 9 = 0.24119452752971818\n",
      "LGB model accuracy score for K fold 10 = 0.9423766197959746\n",
      "LGB model rmse score for K fold 10 = 0.24004870381659088\n"
     ]
    },
    {
     "name": "stderr",
     "output_type": "stream",
     "text": [
      "C:\\Users\\USER\\Anaconda3\\lib\\site-packages\\sklearn\\preprocessing\\label.py:151: DeprecationWarning: The truth value of an empty array is ambiguous. Returning False, but in future this will result in an error. Use `array.size > 0` to check that an array is not empty.\n",
      "  if diff:\n"
     ]
    }
   ],
   "source": [
    "kf = StratifiedKFold(n_splits=10, shuffle=True)\n",
    "lgb_model = lgb.LGBMClassifier()\n",
    "YStrat = train_data['clarity'].values\n",
    "step = 1\n",
    "X = X_feats_tr\n",
    "\n",
    "for train_index, test_index in kf.split(X,YStrat): \n",
    "    train_X = X[train_index]\n",
    "    train_Y = train_data['clarity'][train_index]\n",
    "    test_X = X[test_index]\n",
    "    test_Y = train_data['clarity'][test_index]\n",
    "    lgb_model.fit(train_X, train_Y)\n",
    "    predictions = lgb_model.predict(test_X)\n",
    "    accuracy = accuracy_score(test_Y, predictions)\n",
    "    rmse = math.sqrt(mean_squared_error(test_Y, predictions))\n",
    "    print(\"LGB model accuracy score for K fold {} = {}\".format(step, accuracy) )\n",
    "    print(\"LGB model rmse score for K fold {} = {}\".format(step, rmse) )\n",
    "    step += 1"
   ]
  },
  {
   "cell_type": "code",
   "execution_count": 108,
   "metadata": {
    "scrolled": false
   },
   "outputs": [
    {
     "name": "stdout",
     "output_type": "stream",
     "text": [
      "train_index [    1     2     3 ... 36279 36280 36281]\n",
      "Naive Bayesian model accuracy score for K fold 1 = 0.43042160374758887\n",
      "Naive Bayesian model rmse score for K fold 1 = 0.7547041779746626\n",
      "train_index [    0     1     3 ... 36280 36281 36282]\n",
      "Naive Bayesian model accuracy score for K fold 2 = 0.42270597960870765\n",
      "Naive Bayesian model rmse score for K fold 2 = 0.7597986709591511\n",
      "train_index [    0     2     3 ... 36278 36279 36282]\n",
      "Naive Bayesian model accuracy score for K fold 3 = 0.43152383576742903\n",
      "Naive Bayesian model rmse score for K fold 3 = 0.7539735832458395\n",
      "train_index [    0     1     2 ... 36280 36281 36282]\n",
      "Naive Bayesian model accuracy score for K fold 4 = 0.42904381372278866\n",
      "Naive Bayesian model rmse score for K fold 4 = 0.7556164280090867\n",
      "train_index [    0     1     2 ... 36280 36281 36282]\n",
      "Naive Bayesian model accuracy score for K fold 5 = 0.4262882336731882\n",
      "Naive Bayesian model rmse score for K fold 5 = 0.757437631971644\n",
      "train_index [    0     1     2 ... 36280 36281 36282]\n",
      "Naive Bayesian model accuracy score for K fold 6 = 0.4279415817029485\n",
      "Naive Bayesian model rmse score for K fold 6 = 0.7563454358274739\n",
      "train_index [    0     1     2 ... 36280 36281 36282]\n",
      "Naive Bayesian model accuracy score for K fold 7 = 0.418412348401323\n",
      "Naive Bayesian model rmse score for K fold 7 = 0.7626189425910407\n",
      "train_index [    0     1     2 ... 36280 36281 36282]\n",
      "Naive Bayesian model accuracy score for K fold 8 = 0.42404190791287566\n",
      "Naive Bayesian model rmse score for K fold 8 = 0.7589190286763959\n",
      "train_index [    0     1     2 ... 36280 36281 36282]\n",
      "Naive Bayesian model accuracy score for K fold 9 = 0.470912599944858\n",
      "Naive Bayesian model rmse score for K fold 9 = 0.7273839426706793\n",
      "train_index [    0     1     2 ... 36280 36281 36282]\n",
      "Naive Bayesian model accuracy score for K fold 10 = 0.42376619795974635\n",
      "Naive Bayesian model rmse score for K fold 10 = 0.7591006534315813\n"
     ]
    }
   ],
   "source": [
    "# title ngrams used only for NaiveBayesian. Giving huge errors for more features.\n",
    "\n",
    "kf = StratifiedKFold(n_splits=10, shuffle=True)\n",
    "naive_bayes_model = MultinomialNB()\n",
    "YStrat = train_data['conciseness'].values\n",
    "step = 1\n",
    "X = X_title_count_tr\n",
    "for train_index, test_index in kf.split(X,YStrat): \n",
    "    print(\"train_index\", train_index)\n",
    "    train_X = X[train_index]\n",
    "    train_Y = train_data['conciseness'][train_index]\n",
    "    test_X = X[test_index]\n",
    "    test_Y = train_data['conciseness'][test_index]\n",
    "    naive_bayes_model.fit(train_X, train_Y)\n",
    "    predictions = naive_bayes_model.predict(test_X)\n",
    "    accuracy = accuracy_score(test_Y, predictions)\n",
    "    rmse = math.sqrt(mean_squared_error(test_Y, predictions))\n",
    "    print(\"Naive Bayesian model accuracy score for K fold {} = {}\".format(step, accuracy) )\n",
    "    print(\"Naive Bayesian model rmse score for K fold {} = {}\".format(step, rmse) )\n",
    "\n",
    "\n",
    "    step += 1"
   ]
  },
  {
   "cell_type": "code",
   "execution_count": 107,
   "metadata": {
    "scrolled": true
   },
   "outputs": [
    {
     "name": "stdout",
     "output_type": "stream",
     "text": [
      "train_index [    1     2     4 ... 36278 36280 36282]\n",
      "Naive Bayesian model accuracy score for K fold 1 = 0.7431799393772389\n",
      "Naive Bayesian model rmse score for K fold 1 = 0.506774171226949\n",
      "train_index [    0     3     4 ... 36280 36281 36282]\n",
      "Naive Bayesian model accuracy score for K fold 2 = 0.7503444475062001\n",
      "Naive Bayesian model rmse score for K fold 2 = 0.49965543376791166\n",
      "train_index [    0     1     2 ... 36280 36281 36282]\n",
      "Naive Bayesian model accuracy score for K fold 3 = 0.7426288233673188\n",
      "Naive Bayesian model rmse score for K fold 3 = 0.5073176289393866\n",
      "train_index [    0     1     2 ... 36280 36281 36282]\n",
      "Naive Bayesian model accuracy score for K fold 4 = 0.7456599614218793\n",
      "Naive Bayesian model rmse score for K fold 4 = 0.5043213643879473\n",
      "train_index [    0     1     2 ... 36280 36281 36282]\n",
      "Naive Bayesian model accuracy score for K fold 5 = 0.7591623036649214\n",
      "Naive Bayesian model rmse score for K fold 5 = 0.49075217405028226\n",
      "train_index [    0     1     2 ... 36280 36281 36282]\n",
      "Naive Bayesian model accuracy score for K fold 6 = 0.7544101433296582\n",
      "Naive Bayesian model rmse score for K fold 6 = 0.49557023384212834\n",
      "train_index [    0     1     2 ... 36280 36281 36282]\n",
      "Naive Bayesian model accuracy score for K fold 7 = 0.7601984564498346\n",
      "Naive Bayesian model rmse score for K fold 7 = 0.48969535790138485\n",
      "train_index [    0     1     2 ... 36278 36279 36281]\n",
      "Naive Bayesian model accuracy score for K fold 8 = 0.7442116868798236\n",
      "Naive Bayesian model rmse score for K fold 8 = 0.5057551908979051\n",
      "train_index [    0     1     2 ... 36280 36281 36282]\n",
      "Naive Bayesian model accuracy score for K fold 9 = 0.7626137303556658\n",
      "Naive Bayesian model rmse score for K fold 9 = 0.48722301838514787\n",
      "train_index [    0     1     2 ... 36280 36281 36282]\n",
      "Naive Bayesian model accuracy score for K fold 10 = 0.7504824924179763\n",
      "Naive Bayesian model rmse score for K fold 10 = 0.4995172745581715\n"
     ]
    }
   ],
   "source": [
    "# title ngrams used only for NaiveBayesian. Giving huge errors for more features.\n",
    "\n",
    "kf = StratifiedKFold(n_splits=10, shuffle=True)\n",
    "naive_bayes_model = MultinomialNB()\n",
    "YStrat = train_data['clarity'].values\n",
    "step = 1\n",
    "X = X_title_count_tr\n",
    "for train_index, test_index in kf.split(X,YStrat): \n",
    "    print(\"train_index\", train_index)\n",
    "    train_X = X[train_index]\n",
    "    train_Y = train_data['clarity'][train_index]\n",
    "    test_X = X[test_index]\n",
    "    test_Y = train_data['clarity'][test_index]\n",
    "    naive_bayes_model.fit(train_X, train_Y)\n",
    "    predictions = naive_bayes_model.predict(test_X)\n",
    "    accuracy = accuracy_score(test_Y, predictions)\n",
    "    rmse = math.sqrt(mean_squared_error(test_Y, predictions))\n",
    "    print(\"Naive Bayesian model accuracy score for K fold {} = {}\".format(step, accuracy) )\n",
    "    print(\"Naive Bayesian model rmse score for K fold {} = {}\".format(step, rmse) )\n",
    "\n",
    "    step += 1"
   ]
  },
  {
   "cell_type": "code",
   "execution_count": 32,
   "metadata": {
    "scrolled": true
   },
   "outputs": [
    {
     "data": {
      "text/plain": [
       "<36283x8790 sparse matrix of type '<class 'numpy.float64'>'\n",
       "\twith 7578925 stored elements in Compressed Sparse Row format>"
      ]
     },
     "execution_count": 32,
     "metadata": {},
     "output_type": "execute_result"
    }
   ],
   "source": [
    "X_feats_tr_csr"
   ]
  },
  {
   "cell_type": "code",
   "execution_count": 156,
   "metadata": {
    "scrolled": true
   },
   "outputs": [
    {
     "data": {
      "text/plain": [
       "<36283x8775 sparse matrix of type '<class 'numpy.float32'>'\n",
       "\twith 7263264 stored elements in Compressed Sparse Row format>"
      ]
     },
     "execution_count": 156,
     "metadata": {},
     "output_type": "execute_result"
    }
   ],
   "source": [
    "X_title_count_tr.astype('float32')"
   ]
  },
  {
   "cell_type": "code",
   "execution_count": 138,
   "metadata": {
    "scrolled": true
   },
   "outputs": [
    {
     "data": {
      "text/html": [
       "<div>\n",
       "<style>\n",
       "    .dataframe thead tr:only-child th {\n",
       "        text-align: right;\n",
       "    }\n",
       "\n",
       "    .dataframe thead th {\n",
       "        text-align: left;\n",
       "    }\n",
       "\n",
       "    .dataframe tbody tr th {\n",
       "        vertical-align: top;\n",
       "    }\n",
       "</style>\n",
       "<table border=\"1\" class=\"dataframe\">\n",
       "  <thead>\n",
       "    <tr style=\"text-align: right;\">\n",
       "      <th></th>\n",
       "      <th>conciseness</th>\n",
       "    </tr>\n",
       "  </thead>\n",
       "  <tbody>\n",
       "    <tr>\n",
       "      <th>2</th>\n",
       "      <td>0</td>\n",
       "    </tr>\n",
       "    <tr>\n",
       "      <th>18</th>\n",
       "      <td>0</td>\n",
       "    </tr>\n",
       "    <tr>\n",
       "      <th>23</th>\n",
       "      <td>0</td>\n",
       "    </tr>\n",
       "    <tr>\n",
       "      <th>36</th>\n",
       "      <td>0</td>\n",
       "    </tr>\n",
       "    <tr>\n",
       "      <th>38</th>\n",
       "      <td>0</td>\n",
       "    </tr>\n",
       "    <tr>\n",
       "      <th>41</th>\n",
       "      <td>0</td>\n",
       "    </tr>\n",
       "    <tr>\n",
       "      <th>42</th>\n",
       "      <td>0</td>\n",
       "    </tr>\n",
       "    <tr>\n",
       "      <th>43</th>\n",
       "      <td>0</td>\n",
       "    </tr>\n",
       "    <tr>\n",
       "      <th>44</th>\n",
       "      <td>0</td>\n",
       "    </tr>\n",
       "    <tr>\n",
       "      <th>45</th>\n",
       "      <td>0</td>\n",
       "    </tr>\n",
       "    <tr>\n",
       "      <th>46</th>\n",
       "      <td>0</td>\n",
       "    </tr>\n",
       "    <tr>\n",
       "      <th>52</th>\n",
       "      <td>0</td>\n",
       "    </tr>\n",
       "    <tr>\n",
       "      <th>54</th>\n",
       "      <td>0</td>\n",
       "    </tr>\n",
       "    <tr>\n",
       "      <th>56</th>\n",
       "      <td>0</td>\n",
       "    </tr>\n",
       "    <tr>\n",
       "      <th>59</th>\n",
       "      <td>0</td>\n",
       "    </tr>\n",
       "    <tr>\n",
       "      <th>60</th>\n",
       "      <td>0</td>\n",
       "    </tr>\n",
       "    <tr>\n",
       "      <th>61</th>\n",
       "      <td>0</td>\n",
       "    </tr>\n",
       "    <tr>\n",
       "      <th>63</th>\n",
       "      <td>0</td>\n",
       "    </tr>\n",
       "    <tr>\n",
       "      <th>65</th>\n",
       "      <td>0</td>\n",
       "    </tr>\n",
       "    <tr>\n",
       "      <th>69</th>\n",
       "      <td>0</td>\n",
       "    </tr>\n",
       "    <tr>\n",
       "      <th>72</th>\n",
       "      <td>0</td>\n",
       "    </tr>\n",
       "    <tr>\n",
       "      <th>73</th>\n",
       "      <td>0</td>\n",
       "    </tr>\n",
       "    <tr>\n",
       "      <th>74</th>\n",
       "      <td>0</td>\n",
       "    </tr>\n",
       "    <tr>\n",
       "      <th>76</th>\n",
       "      <td>0</td>\n",
       "    </tr>\n",
       "    <tr>\n",
       "      <th>77</th>\n",
       "      <td>0</td>\n",
       "    </tr>\n",
       "    <tr>\n",
       "      <th>79</th>\n",
       "      <td>0</td>\n",
       "    </tr>\n",
       "    <tr>\n",
       "      <th>88</th>\n",
       "      <td>0</td>\n",
       "    </tr>\n",
       "    <tr>\n",
       "      <th>89</th>\n",
       "      <td>0</td>\n",
       "    </tr>\n",
       "    <tr>\n",
       "      <th>90</th>\n",
       "      <td>0</td>\n",
       "    </tr>\n",
       "    <tr>\n",
       "      <th>93</th>\n",
       "      <td>0</td>\n",
       "    </tr>\n",
       "    <tr>\n",
       "      <th>...</th>\n",
       "      <td>...</td>\n",
       "    </tr>\n",
       "    <tr>\n",
       "      <th>36193</th>\n",
       "      <td>0</td>\n",
       "    </tr>\n",
       "    <tr>\n",
       "      <th>36194</th>\n",
       "      <td>0</td>\n",
       "    </tr>\n",
       "    <tr>\n",
       "      <th>36207</th>\n",
       "      <td>0</td>\n",
       "    </tr>\n",
       "    <tr>\n",
       "      <th>36211</th>\n",
       "      <td>0</td>\n",
       "    </tr>\n",
       "    <tr>\n",
       "      <th>36213</th>\n",
       "      <td>0</td>\n",
       "    </tr>\n",
       "    <tr>\n",
       "      <th>36217</th>\n",
       "      <td>0</td>\n",
       "    </tr>\n",
       "    <tr>\n",
       "      <th>36219</th>\n",
       "      <td>0</td>\n",
       "    </tr>\n",
       "    <tr>\n",
       "      <th>36221</th>\n",
       "      <td>0</td>\n",
       "    </tr>\n",
       "    <tr>\n",
       "      <th>36222</th>\n",
       "      <td>0</td>\n",
       "    </tr>\n",
       "    <tr>\n",
       "      <th>36228</th>\n",
       "      <td>0</td>\n",
       "    </tr>\n",
       "    <tr>\n",
       "      <th>36229</th>\n",
       "      <td>0</td>\n",
       "    </tr>\n",
       "    <tr>\n",
       "      <th>36230</th>\n",
       "      <td>0</td>\n",
       "    </tr>\n",
       "    <tr>\n",
       "      <th>36236</th>\n",
       "      <td>0</td>\n",
       "    </tr>\n",
       "    <tr>\n",
       "      <th>36239</th>\n",
       "      <td>0</td>\n",
       "    </tr>\n",
       "    <tr>\n",
       "      <th>36240</th>\n",
       "      <td>0</td>\n",
       "    </tr>\n",
       "    <tr>\n",
       "      <th>36252</th>\n",
       "      <td>0</td>\n",
       "    </tr>\n",
       "    <tr>\n",
       "      <th>36254</th>\n",
       "      <td>0</td>\n",
       "    </tr>\n",
       "    <tr>\n",
       "      <th>36257</th>\n",
       "      <td>0</td>\n",
       "    </tr>\n",
       "    <tr>\n",
       "      <th>36259</th>\n",
       "      <td>0</td>\n",
       "    </tr>\n",
       "    <tr>\n",
       "      <th>36260</th>\n",
       "      <td>0</td>\n",
       "    </tr>\n",
       "    <tr>\n",
       "      <th>36261</th>\n",
       "      <td>0</td>\n",
       "    </tr>\n",
       "    <tr>\n",
       "      <th>36262</th>\n",
       "      <td>0</td>\n",
       "    </tr>\n",
       "    <tr>\n",
       "      <th>36267</th>\n",
       "      <td>0</td>\n",
       "    </tr>\n",
       "    <tr>\n",
       "      <th>36269</th>\n",
       "      <td>0</td>\n",
       "    </tr>\n",
       "    <tr>\n",
       "      <th>36270</th>\n",
       "      <td>0</td>\n",
       "    </tr>\n",
       "    <tr>\n",
       "      <th>36271</th>\n",
       "      <td>0</td>\n",
       "    </tr>\n",
       "    <tr>\n",
       "      <th>36274</th>\n",
       "      <td>0</td>\n",
       "    </tr>\n",
       "    <tr>\n",
       "      <th>36275</th>\n",
       "      <td>0</td>\n",
       "    </tr>\n",
       "    <tr>\n",
       "      <th>36280</th>\n",
       "      <td>0</td>\n",
       "    </tr>\n",
       "    <tr>\n",
       "      <th>36282</th>\n",
       "      <td>0</td>\n",
       "    </tr>\n",
       "  </tbody>\n",
       "</table>\n",
       "<p>11417 rows × 1 columns</p>\n",
       "</div>"
      ],
      "text/plain": [
       "       conciseness\n",
       "2                0\n",
       "18               0\n",
       "23               0\n",
       "36               0\n",
       "38               0\n",
       "41               0\n",
       "42               0\n",
       "43               0\n",
       "44               0\n",
       "45               0\n",
       "46               0\n",
       "52               0\n",
       "54               0\n",
       "56               0\n",
       "59               0\n",
       "60               0\n",
       "61               0\n",
       "63               0\n",
       "65               0\n",
       "69               0\n",
       "72               0\n",
       "73               0\n",
       "74               0\n",
       "76               0\n",
       "77               0\n",
       "79               0\n",
       "88               0\n",
       "89               0\n",
       "90               0\n",
       "93               0\n",
       "...            ...\n",
       "36193            0\n",
       "36194            0\n",
       "36207            0\n",
       "36211            0\n",
       "36213            0\n",
       "36217            0\n",
       "36219            0\n",
       "36221            0\n",
       "36222            0\n",
       "36228            0\n",
       "36229            0\n",
       "36230            0\n",
       "36236            0\n",
       "36239            0\n",
       "36240            0\n",
       "36252            0\n",
       "36254            0\n",
       "36257            0\n",
       "36259            0\n",
       "36260            0\n",
       "36261            0\n",
       "36262            0\n",
       "36267            0\n",
       "36269            0\n",
       "36270            0\n",
       "36271            0\n",
       "36274            0\n",
       "36275            0\n",
       "36280            0\n",
       "36282            0\n",
       "\n",
       "[11417 rows x 1 columns]"
      ]
     },
     "execution_count": 138,
     "metadata": {},
     "output_type": "execute_result"
    }
   ],
   "source": [
    "train_conciseness_labels[train_conciseness_labels['conciseness'] == 0]\n",
    "\n",
    "\n"
   ]
  },
  {
   "cell_type": "code",
   "execution_count": null,
   "metadata": {
    "collapsed": true,
    "scrolled": true
   },
   "outputs": [],
   "source": []
  },
  {
   "cell_type": "code",
   "execution_count": null,
   "metadata": {
    "collapsed": true,
    "scrolled": true
   },
   "outputs": [],
   "source": []
  }
 ],
 "metadata": {
  "kernelspec": {
   "display_name": "Python 3",
   "language": "python",
   "name": "python3"
  },
  "language_info": {
   "codemirror_mode": {
    "name": "ipython",
    "version": 3
   },
   "file_extension": ".py",
   "mimetype": "text/x-python",
   "name": "python",
   "nbconvert_exporter": "python",
   "pygments_lexer": "ipython3",
   "version": "3.6.3"
  }
 },
 "nbformat": 4,
 "nbformat_minor": 2
}
